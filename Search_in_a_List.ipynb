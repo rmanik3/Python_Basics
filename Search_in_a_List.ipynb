{
 "cells": [
  {
   "cell_type": "code",
   "execution_count": 25,
   "metadata": {},
   "outputs": [
    {
     "name": "stdout",
     "output_type": "stream",
     "text": [
      "3\n",
      "10\n",
      "11\n",
      "12\n",
      "[10, 11, 12]\n",
      "13\n",
      "NO\n"
     ]
    }
   ],
   "source": [
    "import sys\n",
    "\n",
    "array_length = int(input(\"\"))\n",
    "listN = []\n",
    "\n",
    "for line in range(array_length):\n",
    "    instr=input(\"\")\n",
    "    listN.append(int(instr))\n",
    "\n",
    "print(listN)\n",
    "\n",
    "search = int(input(\"\"))\n",
    "\n",
    "def number_search_list(int_list,int_in):\n",
    "    if int_list.count(int_in) > 0:\n",
    "        print(\"YES\")\n",
    "    else:\n",
    "        print(\"NO\")\n",
    "\n",
    "number_search_list(listN,search)\n",
    "        "
   ]
  },
  {
   "cell_type": "code",
   "execution_count": null,
   "metadata": {},
   "outputs": [],
   "source": []
  },
  {
   "cell_type": "code",
   "execution_count": null,
   "metadata": {},
   "outputs": [],
   "source": []
  },
  {
   "cell_type": "code",
   "execution_count": null,
   "metadata": {},
   "outputs": [],
   "source": []
  }
 ],
 "metadata": {
  "kernelspec": {
   "display_name": "Python 3",
   "language": "python",
   "name": "python3"
  },
  "language_info": {
   "codemirror_mode": {
    "name": "ipython",
    "version": 3
   },
   "file_extension": ".py",
   "mimetype": "text/x-python",
   "name": "python",
   "nbconvert_exporter": "python",
   "pygments_lexer": "ipython3",
   "version": "3.7.3"
  }
 },
 "nbformat": 4,
 "nbformat_minor": 2
}
